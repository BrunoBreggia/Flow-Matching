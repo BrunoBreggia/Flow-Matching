{
 "cells": [
  {
   "cell_type": "code",
   "execution_count": 13,
   "id": "b68a79c1",
   "metadata": {},
   "outputs": [],
   "source": [
    "# 1) Defino la red (el Flujo)\n",
    "from pathlib import Path\n",
    "from torch.utils.data import Dataset\n",
    "import torch\n",
    "from torch import nn, Tensor\n",
    "import matplotlib.pyplot as plt\n",
    "from sklearn.datasets import make_moons\n",
    "\n",
    "class Flow(nn.Module):\n",
    "  def __init__(self, dim: int = 2, h: int = 64):\n",
    "    super().__init__()\n",
    "    self.net = nn.Sequential(\n",
    "    nn.Linear(dim + 1, h), nn.ELU(),\n",
    "    nn.Linear(h, h), nn.ELU(),\n",
    "    nn.Linear(h, h), nn.ELU(),\n",
    "    nn.Linear(h, dim))\n",
    "\n",
    "  def forward(self, x_t: Tensor, t: Tensor) -> Tensor:\n",
    "    return self.net(torch.cat((t, x_t), -1))\n",
    "\n",
    "  def step(self, x_t: Tensor, t_start: Tensor, t_end: Tensor) -> Tensor:\n",
    "    # este metodo se usa a la hora de evaluar el metodo, no en el entrenamiento\n",
    "    t_start = t_start.view(1, 1).expand(x_t.shape[0], 1)\n",
    "    # Metodo de resolucion de ODE (utiliza el metodo del punto medio)\n",
    "    return x_t + (t_end - t_start) * self(x_t + self(x_t, t_start) * (t_end - t_start) / 2,\n",
    "    t_start + (t_end - t_start) / 2)"
   ]
  },
  {
   "cell_type": "code",
   "execution_count": 14,
   "id": "3686f711",
   "metadata": {},
   "outputs": [],
   "source": [
    "\n",
    "class WaveDataset(Dataset):\n",
    "    def __init__(self, path: Path, num_samples: int = 1000):\n",
    "        data = torch.load(path)\n",
    "        self.u = data['u']              # (Nt+1, Nx+1)\n",
    "        self.x = data['x']              # (Nx+1,)\n",
    "        self.t = data['t']              # (Nt+1,)\n",
    "        self.f_x = data['f_x']          # condición inicial f(x)\n",
    "        self.k = data['k']              # parámetro k (frecuencia)\n",
    "\n",
    "        self.Nt, self.Nx = self.u.shape\n",
    "        self.num_samples = num_samples\n",
    "\n",
    "        # Generar índices aleatorios (pueden fijarse para reproducibilidad)\n",
    "        self.t_idx = torch.randint(0, self.Nt, (num_samples,))\n",
    "        self.x_idx = torch.randint(0, self.Nx, (num_samples,))\n",
    "\n",
    "    def __len__(self):\n",
    "        return self.num_samples\n",
    "\n",
    "    def __getitem__(self, idx):\n",
    "        t_i = self.t_idx[idx]\n",
    "        x_i = self.x_idx[idx]\n",
    "\n",
    "        # Obtener valores\n",
    "        x_val = self.x[x_i]\n",
    "        t_val = self.t[t_i]\n",
    "        u_val = self.u[t_i, x_i]\n",
    "\n",
    "        # Entrada (x, t), salida u(x, t)\n",
    "        return torch.tensor([x_val, t_val], dtype=torch.float32), u_val\n"
   ]
  },
  {
   "cell_type": "code",
   "execution_count": 18,
   "id": "664da8c0",
   "metadata": {},
   "outputs": [
    {
     "name": "stderr",
     "output_type": "stream",
     "text": [
      "/tmp/ipykernel_1130478/817165739.py:3: FutureWarning: You are using `torch.load` with `weights_only=False` (the current default value), which uses the default pickle module implicitly. It is possible to construct malicious pickle data which will execute arbitrary code during unpickling (See https://github.com/pytorch/pytorch/blob/main/SECURITY.md#untrusted-models for more details). In a future release, the default value for `weights_only` will be flipped to `True`. This limits the functions that could be executed during unpickling. Arbitrary objects will no longer be allowed to be loaded via this mode unless they are explicitly allowlisted by the user via `torch.serialization.add_safe_globals`. We recommend you start setting `weights_only=True` for any use case where you don't have full control of the loaded file. Please open an issue on GitHub for any issues related to this experimental feature.\n",
      "  data = torch.load(path)\n"
     ]
    }
   ],
   "source": [
    "wave_path='wave_solutions/u_wave_k1.pt'\n",
    "model = Flow()\n",
    "optimizer = torch.optim.Adam(model.parameters(), lr=1e-3)\n",
    "dataset = WaveDataset(wave_path)\n",
    "dataloader = torch.utils.data.DataLoader(dataset, batch_size=32, shuffle=True)\n",
    "optimizer = torch.optim.Adam(model.parameters(), 1e-2)\n"
   ]
  },
  {
   "cell_type": "code",
   "execution_count": null,
   "id": "1d17c3e0",
   "metadata": {},
   "outputs": [],
   "source": [
    "for epoch in range(10):\n",
    "    total_loss = 0\n",
    "    for x, t_, s, u_s, v_target in dataloader:\n",
    "        x = x.view(-1, 1)\n",
    "        t_ = t_.view(-1, 1)\n",
    "        s = s.view(-1, 1)\n",
    "        u_s = u_s.view(-1, 1)\n",
    "        v_target = v_target.view(-1, 1)\n",
    "\n",
    "        pred = model(x, t_, s, u_s)\n",
    "        loss = F.mse_loss(pred, v_target)\n",
    "        optimizer.zero_grad()\n",
    "        loss.backward()\n",
    "        optimizer.step()\n",
    "        total_loss += loss.item()\n",
    "    print(f\"Epoch {epoch+1}, Loss: {total_loss:.4f}\")"
   ]
  }
 ],
 "metadata": {
  "kernelspec": {
   "display_name": "Experiments",
   "language": "python",
   "name": "python3"
  },
  "language_info": {
   "codemirror_mode": {
    "name": "ipython",
    "version": 3
   },
   "file_extension": ".py",
   "mimetype": "text/x-python",
   "name": "python",
   "nbconvert_exporter": "python",
   "pygments_lexer": "ipython3",
   "version": "3.10.16"
  }
 },
 "nbformat": 4,
 "nbformat_minor": 5
}
